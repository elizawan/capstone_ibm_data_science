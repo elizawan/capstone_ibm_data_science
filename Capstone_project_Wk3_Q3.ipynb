{
    "cells": [
        {
            "cell_type": "markdown",
            "metadata": {
                "collapsed": true
            },
            "source": "# IBM Data Science Professional Certificate Week 3 #"
        },
        {
            "cell_type": "markdown",
            "metadata": {},
            "source": "## Peer-graded Assignment: Segmenting and Clustering Neighborhoods in Toronto ##"
        },
        {
            "cell_type": "markdown",
            "metadata": {},
            "source": "## Use the Notebook to build the code to scrape the following Wikipedia page, https://en.wikipedia.org/wiki/List_of_postal_codes_of_Canada:_M, in order to obtain the data that is in the table of postal codes and to transform the data into a pandas  dataframe ##"
        },
        {
            "cell_type": "code",
            "execution_count": 1,
            "metadata": {},
            "outputs": [],
            "source": "#Import Libraries\nimport requests\nimport lxml.html as lh\nimport bs4 as bs\nimport urllib.request\nimport numpy as np \nimport pandas as pd"
        },
        {
            "cell_type": "code",
            "execution_count": null,
            "metadata": {},
            "outputs": [],
            "source": "#Getting the data from url\nurl = \"https://en.wikipedia.org/wiki/List_of_postal_codes_of_Canada:_M\"\nres = requests.get(url)\n\nsoup = bs.BeautifulSoup(res.content,'lxml')\ntable = soup.find_all('table')[0]\ndf = pd.read_html(str(table))\ndata = pd.read_json(df[0].to_json(orient='records'))"
        },
        {
            "cell_type": "code",
            "execution_count": null,
            "metadata": {},
            "outputs": [],
            "source": "#First 10 records\ndata.head(10)"
        },
        {
            "cell_type": "code",
            "execution_count": null,
            "metadata": {},
            "outputs": [],
            "source": "#Exclude data field Borough with not assigned value\ndf_selected = data[data['Borough'] != 'Not assigned']"
        },
        {
            "cell_type": "code",
            "execution_count": null,
            "metadata": {},
            "outputs": [],
            "source": "df_selected"
        },
        {
            "cell_type": "code",
            "execution_count": null,
            "metadata": {},
            "outputs": [],
            "source": "df_selected_gp2 = df_selected.groupby(['Postal Code','Borough'], as_index=False).agg(','.join)"
        },
        {
            "cell_type": "code",
            "execution_count": null,
            "metadata": {},
            "outputs": [],
            "source": "df_selected_gp2"
        },
        {
            "cell_type": "code",
            "execution_count": null,
            "metadata": {},
            "outputs": [],
            "source": ""
        },
        {
            "cell_type": "code",
            "execution_count": null,
            "metadata": {},
            "outputs": [],
            "source": "#Replacing values in Neighbourhood field with Borough where Neighbourhood is not assigned\ndf_selected_gp['Neighbourhood'] = np.where(df_selected_gp2['Neighbourhood'] == 'Not assigned', df_selected_gp2['Borough'], df_selected_gp2['Neighbourhood'])"
        },
        {
            "cell_type": "code",
            "execution_count": null,
            "metadata": {},
            "outputs": [],
            "source": "#Shape of Data\ndf_selected_gp2.shape"
        },
        {
            "cell_type": "markdown",
            "metadata": {},
            "source": "## Geocoder Python package using http://cocl.us/Geospatial_data ##"
        },
        {
            "cell_type": "code",
            "execution_count": null,
            "metadata": {},
            "outputs": [],
            "source": "geo_url = \"http://cocl.us/Geospatial_data\"\ngeo_data = pd.read_csv(geo_url)"
        },
        {
            "cell_type": "code",
            "execution_count": null,
            "metadata": {},
            "outputs": [],
            "source": "geo_data.shape"
        },
        {
            "cell_type": "code",
            "execution_count": null,
            "metadata": {},
            "outputs": [],
            "source": "# Renaming the columns\ngeo_data.columns = ['Postal Code', 'Latitude', 'Longitude']"
        },
        {
            "cell_type": "code",
            "execution_count": null,
            "metadata": {},
            "outputs": [],
            "source": "geo_data.columns"
        },
        {
            "cell_type": "code",
            "execution_count": null,
            "metadata": {},
            "outputs": [],
            "source": "#Merging dataframes\nmerged_data2 = pd.merge(df_selected_gp2, geo_data, on='Postal Code')"
        },
        {
            "cell_type": "code",
            "execution_count": null,
            "metadata": {},
            "outputs": [],
            "source": "merged_data2"
        },
        {
            "cell_type": "markdown",
            "metadata": {},
            "source": "## Q3 Explore and cluster the neighborhoods in Toronto ## "
        },
        {
            "cell_type": "code",
            "execution_count": null,
            "metadata": {},
            "outputs": [],
            "source": "!pip install geopy"
        },
        {
            "cell_type": "code",
            "execution_count": null,
            "metadata": {},
            "outputs": [],
            "source": "!pip install folium"
        },
        {
            "cell_type": "code",
            "execution_count": null,
            "metadata": {},
            "outputs": [],
            "source": "import numpy as np # library to handle data in a vectorized manner\n\nimport pandas as pd # library for data analsysis\npd.set_option('display.max_columns', None)\npd.set_option('display.max_rows', None)\n\nimport json # library to handle JSON files\n\n#!conda install -c conda-forge geopy # uncomment this line if you haven't completed the Foursquare API lab\nfrom geopy.geocoders import Nominatim # convert an address into latitude and longitude values\n\nimport requests # library to handle requests\nfrom pandas.io.json import json_normalize # tranform JSON file into a pandas dataframe\n\n# Matplotlib and associated plotting modules\nimport matplotlib.cm as cm\nimport matplotlib.colors as colors\n\n# import k-means from clustering stage\nfrom sklearn.cluster import KMeans\n\n#!conda install -c conda-forge folium # uncomment this line if you haven't completed the Foursquare API lab\nimport folium # map rendering library\n\nprint('Libraries imported.')"
        },
        {
            "cell_type": "code",
            "execution_count": null,
            "metadata": {},
            "outputs": [],
            "source": "print('The dataframe has {} boroughs and {} neighborhoods.'.format(\n        len(merged_data2['Borough'].unique()),\n        merged_data2.shape[0]\n    )\n)"
        },
        {
            "cell_type": "code",
            "execution_count": null,
            "metadata": {},
            "outputs": [],
            "source": "address = 'Toronto, TO'\n\ngeolocator = Nominatim(user_agent=\"to_explorer\")\nlocation = geolocator.geocode(address)\nlatitude = location.latitude\nlongitude = location.longitude\nprint('The geograpical coordinate of Toronto City are {}, {}.'.format(latitude, longitude))"
        },
        {
            "cell_type": "markdown",
            "metadata": {},
            "source": "## Create a map of New York with neighborhoods superimposed on top. ##"
        },
        {
            "cell_type": "code",
            "execution_count": null,
            "metadata": {},
            "outputs": [],
            "source": "# create map of Toronto using latitude and longitude values\nmap_toronto = folium.Map(location=[latitude, longitude], zoom_start=10)\n\n# add markers to map\nfor lat, lng, borough, neighborhood in zip(merged_data2['Latitude'], merged_data2['Longitude'], merged_data2['Borough'], merged_data2['Neighbourhood']):\n    label = '{}, {}'.format(merged_data2, borough) \n    label = folium.Popup(label, parse_html=True)\n    folium.CircleMarker(\n        [lat, lng],\n        radius=5,\n        popup=label,\n        color='blue',\n        fill=True,\n        fill_color='#3186cc',\n        fill_opacity=0.7,\n        parse_html=False).add_to(map_toronto)  \n    \nmap_toronto"
        },
        {
            "cell_type": "code",
            "execution_count": null,
            "metadata": {},
            "outputs": [],
            "source": ""
        }
    ],
    "metadata": {
        "kernelspec": {
            "display_name": "Python 3.7",
            "language": "python",
            "name": "python3"
        },
        "language_info": {
            "codemirror_mode": {
                "name": "ipython",
                "version": 3
            },
            "file_extension": ".py",
            "mimetype": "text/x-python",
            "name": "python",
            "nbconvert_exporter": "python",
            "pygments_lexer": "ipython3",
            "version": "3.7.9"
        }
    },
    "nbformat": 4,
    "nbformat_minor": 1
}